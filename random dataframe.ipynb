{
 "cells": [
  {
   "cell_type": "code",
   "execution_count": 152,
   "id": "210308c0",
   "metadata": {},
   "outputs": [],
   "source": [
    "import pandas as pd\n",
    "import numpy as np"
   ]
  },
  {
   "cell_type": "code",
   "execution_count": 6,
   "id": "9d4b7bf6",
   "metadata": {},
   "outputs": [
    {
     "data": {
      "text/plain": [
       "red        apple\n",
       "yellow    banana\n",
       "green      mango\n",
       "dtype: object"
      ]
     },
     "execution_count": 6,
     "metadata": {},
     "output_type": "execute_result"
    }
   ],
   "source": [
    "list1=[['red','yellow','green']]\n",
    "pd.Series(data=['apple','banana','mango'],index=[['red','yellow','green']])"
   ]
  },
  {
   "cell_type": "code",
   "execution_count": 7,
   "id": "25e3ac89",
   "metadata": {},
   "outputs": [],
   "source": [
    "import random"
   ]
  },
  {
   "cell_type": "code",
   "execution_count": 66,
   "id": "d58d67a2",
   "metadata": {},
   "outputs": [
    {
     "name": "stdout",
     "output_type": "stream",
     "text": [
      "79\n",
      "87\n"
     ]
    }
   ],
   "source": [
    "random.seed(40)\n",
    "print(random.randint(50,100))\n",
    "#random.seed(40)\n",
    "print(random.randint(50,100))\n"
   ]
  },
  {
   "cell_type": "code",
   "execution_count": 144,
   "id": "688b2388",
   "metadata": {},
   "outputs": [
    {
     "name": "stdout",
     "output_type": "stream",
     "text": [
      "0.6966525482461928\n"
     ]
    }
   ],
   "source": [
    "random.seed()\n",
    "x=random.random()\n",
    "random.seed(x)\n",
    "print(random.random())\n"
   ]
  },
  {
   "cell_type": "code",
   "execution_count": 195,
   "id": "ea1eee42",
   "metadata": {},
   "outputs": [
    {
     "data": {
      "text/html": [
       "<div>\n",
       "<style scoped>\n",
       "    .dataframe tbody tr th:only-of-type {\n",
       "        vertical-align: middle;\n",
       "    }\n",
       "\n",
       "    .dataframe tbody tr th {\n",
       "        vertical-align: top;\n",
       "    }\n",
       "\n",
       "    .dataframe thead th {\n",
       "        text-align: right;\n",
       "    }\n",
       "</style>\n",
       "<table border=\"1\" class=\"dataframe\">\n",
       "  <thead>\n",
       "    <tr style=\"text-align: right;\">\n",
       "      <th></th>\n",
       "      <th>r</th>\n",
       "      <th>s</th>\n",
       "    </tr>\n",
       "  </thead>\n",
       "  <tbody>\n",
       "    <tr>\n",
       "      <th>a</th>\n",
       "      <td>0.177868</td>\n",
       "      <td>0.612296</td>\n",
       "    </tr>\n",
       "    <tr>\n",
       "      <th>b</th>\n",
       "      <td>0.783174</td>\n",
       "      <td>0.925608</td>\n",
       "    </tr>\n",
       "    <tr>\n",
       "      <th>c</th>\n",
       "      <td>0.983243</td>\n",
       "      <td>0.380412</td>\n",
       "    </tr>\n",
       "    <tr>\n",
       "      <th>d</th>\n",
       "      <td>0.913039</td>\n",
       "      <td>0.286300</td>\n",
       "    </tr>\n",
       "    <tr>\n",
       "      <th>e</th>\n",
       "      <td>0.556076</td>\n",
       "      <td>0.562675</td>\n",
       "    </tr>\n",
       "  </tbody>\n",
       "</table>\n",
       "</div>"
      ],
      "text/plain": [
       "          r         s\n",
       "a  0.177868  0.612296\n",
       "b  0.783174  0.925608\n",
       "c  0.983243  0.380412\n",
       "d  0.913039  0.286300\n",
       "e  0.556076  0.562675"
      ]
     },
     "execution_count": 195,
     "metadata": {},
     "output_type": "execute_result"
    }
   ],
   "source": [
    "df=pd.DataFrame(np.random.rand(5,4),index='a b c d e'.split(),columns='p q r s '.split())\n",
    "df[['r','s']]"
   ]
  },
  {
   "cell_type": "code",
   "execution_count": 196,
   "id": "8f00b30c",
   "metadata": {},
   "outputs": [
    {
     "data": {
      "text/plain": [
       "pandas.core.series.Series"
      ]
     },
     "execution_count": 196,
     "metadata": {},
     "output_type": "execute_result"
    }
   ],
   "source": [
    "type(df['r'])\n"
   ]
  },
  {
   "cell_type": "code",
   "execution_count": 201,
   "id": "ab2b7903",
   "metadata": {},
   "outputs": [
    {
     "data": {
      "text/html": [
       "<div>\n",
       "<style scoped>\n",
       "    .dataframe tbody tr th:only-of-type {\n",
       "        vertical-align: middle;\n",
       "    }\n",
       "\n",
       "    .dataframe tbody tr th {\n",
       "        vertical-align: top;\n",
       "    }\n",
       "\n",
       "    .dataframe thead th {\n",
       "        text-align: right;\n",
       "    }\n",
       "</style>\n",
       "<table border=\"1\" class=\"dataframe\">\n",
       "  <thead>\n",
       "    <tr style=\"text-align: right;\">\n",
       "      <th></th>\n",
       "      <th>p</th>\n",
       "      <th>q</th>\n",
       "      <th>r</th>\n",
       "      <th>s</th>\n",
       "      <th>t</th>\n",
       "    </tr>\n",
       "  </thead>\n",
       "  <tbody>\n",
       "    <tr>\n",
       "      <th>a</th>\n",
       "      <td>0.020155</td>\n",
       "      <td>0.690146</td>\n",
       "      <td>0.177868</td>\n",
       "      <td>0.612296</td>\n",
       "      <td>1</td>\n",
       "    </tr>\n",
       "    <tr>\n",
       "      <th>b</th>\n",
       "      <td>0.124773</td>\n",
       "      <td>0.644443</td>\n",
       "      <td>0.783174</td>\n",
       "      <td>0.925608</td>\n",
       "      <td>8</td>\n",
       "    </tr>\n",
       "    <tr>\n",
       "      <th>c</th>\n",
       "      <td>0.226587</td>\n",
       "      <td>0.595437</td>\n",
       "      <td>0.983243</td>\n",
       "      <td>0.380412</td>\n",
       "      <td>4</td>\n",
       "    </tr>\n",
       "    <tr>\n",
       "      <th>d</th>\n",
       "      <td>0.103998</td>\n",
       "      <td>0.563061</td>\n",
       "      <td>0.913039</td>\n",
       "      <td>0.286300</td>\n",
       "      <td>10</td>\n",
       "    </tr>\n",
       "    <tr>\n",
       "      <th>e</th>\n",
       "      <td>0.251474</td>\n",
       "      <td>0.551812</td>\n",
       "      <td>0.556076</td>\n",
       "      <td>0.562675</td>\n",
       "      <td>5</td>\n",
       "    </tr>\n",
       "  </tbody>\n",
       "</table>\n",
       "</div>"
      ],
      "text/plain": [
       "          p         q         r         s   t\n",
       "a  0.020155  0.690146  0.177868  0.612296   1\n",
       "b  0.124773  0.644443  0.783174  0.925608   8\n",
       "c  0.226587  0.595437  0.983243  0.380412   4\n",
       "d  0.103998  0.563061  0.913039  0.286300  10\n",
       "e  0.251474  0.551812  0.556076  0.562675   5"
      ]
     },
     "execution_count": 201,
     "metadata": {},
     "output_type": "execute_result"
    }
   ],
   "source": [
    "df['t']=np.random.randint(1,11,size=len(df))\n",
    "df"
   ]
  },
  {
   "cell_type": "code",
   "execution_count": 213,
   "id": "12c4919c",
   "metadata": {},
   "outputs": [
    {
     "data": {
      "text/html": [
       "<div>\n",
       "<style scoped>\n",
       "    .dataframe tbody tr th:only-of-type {\n",
       "        vertical-align: middle;\n",
       "    }\n",
       "\n",
       "    .dataframe tbody tr th {\n",
       "        vertical-align: top;\n",
       "    }\n",
       "\n",
       "    .dataframe thead th {\n",
       "        text-align: right;\n",
       "    }\n",
       "</style>\n",
       "<table border=\"1\" class=\"dataframe\">\n",
       "  <thead>\n",
       "    <tr style=\"text-align: right;\">\n",
       "      <th></th>\n",
       "      <th>p</th>\n",
       "      <th>q</th>\n",
       "      <th>r</th>\n",
       "      <th>s</th>\n",
       "      <th>t</th>\n",
       "    </tr>\n",
       "  </thead>\n",
       "  <tbody>\n",
       "    <tr>\n",
       "      <th>a</th>\n",
       "      <td>0.020155</td>\n",
       "      <td>0.690146</td>\n",
       "      <td>0.177868</td>\n",
       "      <td>0.612296</td>\n",
       "      <td>1</td>\n",
       "    </tr>\n",
       "    <tr>\n",
       "      <th>b</th>\n",
       "      <td>0.124773</td>\n",
       "      <td>0.644443</td>\n",
       "      <td>0.783174</td>\n",
       "      <td>0.925608</td>\n",
       "      <td>8</td>\n",
       "    </tr>\n",
       "    <tr>\n",
       "      <th>c</th>\n",
       "      <td>0.226587</td>\n",
       "      <td>0.595437</td>\n",
       "      <td>0.983243</td>\n",
       "      <td>0.380412</td>\n",
       "      <td>4</td>\n",
       "    </tr>\n",
       "    <tr>\n",
       "      <th>d</th>\n",
       "      <td>0.103998</td>\n",
       "      <td>0.563061</td>\n",
       "      <td>0.913039</td>\n",
       "      <td>0.286300</td>\n",
       "      <td>10</td>\n",
       "    </tr>\n",
       "    <tr>\n",
       "      <th>e</th>\n",
       "      <td>0.251474</td>\n",
       "      <td>0.551812</td>\n",
       "      <td>0.556076</td>\n",
       "      <td>0.562675</td>\n",
       "      <td>5</td>\n",
       "    </tr>\n",
       "  </tbody>\n",
       "</table>\n",
       "</div>"
      ],
      "text/plain": [
       "          p         q         r         s   t\n",
       "a  0.020155  0.690146  0.177868  0.612296   1\n",
       "b  0.124773  0.644443  0.783174  0.925608   8\n",
       "c  0.226587  0.595437  0.983243  0.380412   4\n",
       "d  0.103998  0.563061  0.913039  0.286300  10\n",
       "e  0.251474  0.551812  0.556076  0.562675   5"
      ]
     },
     "execution_count": 213,
     "metadata": {},
     "output_type": "execute_result"
    }
   ],
   "source": [
    "df.drop('e',axis=0)\n",
    "df"
   ]
  },
  {
   "cell_type": "code",
   "execution_count": 214,
   "id": "eba69a55",
   "metadata": {},
   "outputs": [
    {
     "data": {
      "text/plain": [
       "p    0.020155\n",
       "q    0.690146\n",
       "r    0.177868\n",
       "s    0.612296\n",
       "t    1.000000\n",
       "Name: a, dtype: float64"
      ]
     },
     "execution_count": 214,
     "metadata": {},
     "output_type": "execute_result"
    }
   ],
   "source": [
    "df.loc['a']"
   ]
  },
  {
   "cell_type": "code",
   "execution_count": 224,
   "id": "e8c8dbca",
   "metadata": {},
   "outputs": [
    {
     "data": {
      "text/html": [
       "<div>\n",
       "<style scoped>\n",
       "    .dataframe tbody tr th:only-of-type {\n",
       "        vertical-align: middle;\n",
       "    }\n",
       "\n",
       "    .dataframe tbody tr th {\n",
       "        vertical-align: top;\n",
       "    }\n",
       "\n",
       "    .dataframe thead th {\n",
       "        text-align: right;\n",
       "    }\n",
       "</style>\n",
       "<table border=\"1\" class=\"dataframe\">\n",
       "  <thead>\n",
       "    <tr style=\"text-align: right;\">\n",
       "      <th></th>\n",
       "      <th>q</th>\n",
       "    </tr>\n",
       "  </thead>\n",
       "  <tbody>\n",
       "    <tr>\n",
       "      <th>a</th>\n",
       "      <td>0.690146</td>\n",
       "    </tr>\n",
       "  </tbody>\n",
       "</table>\n",
       "</div>"
      ],
      "text/plain": [
       "          q\n",
       "a  0.690146"
      ]
     },
     "execution_count": 224,
     "metadata": {},
     "output_type": "execute_result"
    }
   ],
   "source": [
    "df.iloc[[0],[1]]"
   ]
  },
  {
   "cell_type": "code",
   "execution_count": 227,
   "id": "8666e834",
   "metadata": {},
   "outputs": [
    {
     "data": {
      "text/plain": [
       "0.020155193166505048"
      ]
     },
     "execution_count": 227,
     "metadata": {},
     "output_type": "execute_result"
    }
   ],
   "source": [
    "df.loc['a','p']"
   ]
  },
  {
   "cell_type": "code",
   "execution_count": 231,
   "id": "df8a87e1",
   "metadata": {},
   "outputs": [
    {
     "data": {
      "text/html": [
       "<div>\n",
       "<style scoped>\n",
       "    .dataframe tbody tr th:only-of-type {\n",
       "        vertical-align: middle;\n",
       "    }\n",
       "\n",
       "    .dataframe tbody tr th {\n",
       "        vertical-align: top;\n",
       "    }\n",
       "\n",
       "    .dataframe thead th {\n",
       "        text-align: right;\n",
       "    }\n",
       "</style>\n",
       "<table border=\"1\" class=\"dataframe\">\n",
       "  <thead>\n",
       "    <tr style=\"text-align: right;\">\n",
       "      <th></th>\n",
       "      <th>r</th>\n",
       "      <th>s</th>\n",
       "    </tr>\n",
       "  </thead>\n",
       "  <tbody>\n",
       "    <tr>\n",
       "      <th>a</th>\n",
       "      <td>0.177868</td>\n",
       "      <td>0.612296</td>\n",
       "    </tr>\n",
       "    <tr>\n",
       "      <th>b</th>\n",
       "      <td>0.783174</td>\n",
       "      <td>0.925608</td>\n",
       "    </tr>\n",
       "  </tbody>\n",
       "</table>\n",
       "</div>"
      ],
      "text/plain": [
       "          r         s\n",
       "a  0.177868  0.612296\n",
       "b  0.783174  0.925608"
      ]
     },
     "execution_count": 231,
     "metadata": {},
     "output_type": "execute_result"
    }
   ],
   "source": [
    "df.loc[['a','b'],['r','s']]"
   ]
  },
  {
   "cell_type": "code",
   "execution_count": 233,
   "id": "5bb27f27",
   "metadata": {},
   "outputs": [
    {
     "data": {
      "text/plain": [
       "[('a', 1), ('a', 2), ('a', 3), ('b', 1), ('b', 2), ('b', 3)]"
      ]
     },
     "execution_count": 233,
     "metadata": {},
     "output_type": "execute_result"
    }
   ],
   "source": [
    "a1=['a','a','a','b','b','b']\n",
    "a2=[1,2,3,1,2,3]\n",
    "p=list(zip(a1,a2))\n",
    "p"
   ]
  },
  {
   "cell_type": "code",
   "execution_count": 242,
   "id": "8f894483",
   "metadata": {},
   "outputs": [
    {
     "data": {
      "text/html": [
       "<div>\n",
       "<style scoped>\n",
       "    .dataframe tbody tr th:only-of-type {\n",
       "        vertical-align: middle;\n",
       "    }\n",
       "\n",
       "    .dataframe tbody tr th {\n",
       "        vertical-align: top;\n",
       "    }\n",
       "\n",
       "    .dataframe thead th {\n",
       "        text-align: right;\n",
       "    }\n",
       "</style>\n",
       "<table border=\"1\" class=\"dataframe\">\n",
       "  <thead>\n",
       "    <tr style=\"text-align: right;\">\n",
       "      <th></th>\n",
       "      <th>x</th>\n",
       "      <th>y</th>\n",
       "    </tr>\n",
       "  </thead>\n",
       "  <tbody>\n",
       "    <tr>\n",
       "      <th>(a, 1)</th>\n",
       "      <td>-0.922419</td>\n",
       "      <td>0.941637</td>\n",
       "    </tr>\n",
       "    <tr>\n",
       "      <th>(a, 2)</th>\n",
       "      <td>0.787167</td>\n",
       "      <td>-0.365964</td>\n",
       "    </tr>\n",
       "    <tr>\n",
       "      <th>(a, 3)</th>\n",
       "      <td>-0.604073</td>\n",
       "      <td>-0.104936</td>\n",
       "    </tr>\n",
       "    <tr>\n",
       "      <th>(b, 1)</th>\n",
       "      <td>0.220713</td>\n",
       "      <td>-0.329352</td>\n",
       "    </tr>\n",
       "    <tr>\n",
       "      <th>(b, 2)</th>\n",
       "      <td>-0.203747</td>\n",
       "      <td>0.174933</td>\n",
       "    </tr>\n",
       "    <tr>\n",
       "      <th>(b, 3)</th>\n",
       "      <td>1.605049</td>\n",
       "      <td>-0.197657</td>\n",
       "    </tr>\n",
       "  </tbody>\n",
       "</table>\n",
       "</div>"
      ],
      "text/plain": [
       "               x         y\n",
       "(a, 1) -0.922419  0.941637\n",
       "(a, 2)  0.787167 -0.365964\n",
       "(a, 3) -0.604073 -0.104936\n",
       "(b, 1)  0.220713 -0.329352\n",
       "(b, 2) -0.203747  0.174933\n",
       "(b, 3)  1.605049 -0.197657"
      ]
     },
     "execution_count": 242,
     "metadata": {},
     "output_type": "execute_result"
    }
   ],
   "source": [
    "df1=pd.DataFrame(np.random.randn(6,2),index=p,columns=['x','y'])\n",
    "df1"
   ]
  },
  {
   "cell_type": "code",
   "execution_count": null,
   "id": "d291e365",
   "metadata": {},
   "outputs": [],
   "source": []
  }
 ],
 "metadata": {
  "kernelspec": {
   "display_name": "Python 3 (ipykernel)",
   "language": "python",
   "name": "python3"
  },
  "language_info": {
   "codemirror_mode": {
    "name": "ipython",
    "version": 3
   },
   "file_extension": ".py",
   "mimetype": "text/x-python",
   "name": "python",
   "nbconvert_exporter": "python",
   "pygments_lexer": "ipython3",
   "version": "3.11.5"
  }
 },
 "nbformat": 4,
 "nbformat_minor": 5
}
