{
 "cells": [
  {
   "cell_type": "code",
   "execution_count": 8,
   "id": "fafbacb9",
   "metadata": {},
   "outputs": [
    {
     "name": "stdout",
     "output_type": "stream",
     "text": [
      "[[1 2]\n",
      " [3 4]]\n",
      "[[5 6]\n",
      " [7 8]]\n"
     ]
    }
   ],
   "source": [
    "import numpy as np\n",
    "m1=np.array([[1,2],[3,4]])\n",
    "print(m1)\n",
    "m2=np.array([[5,6],[7,8]])\n",
    "print(m2)"
   ]
  },
  {
   "cell_type": "code",
   "execution_count": 10,
   "id": "4d6d5852",
   "metadata": {},
   "outputs": [
    {
     "data": {
      "text/plain": [
       "array([[19, 22],\n",
       "       [43, 50]])"
      ]
     },
     "execution_count": 10,
     "metadata": {},
     "output_type": "execute_result"
    }
   ],
   "source": [
    "#mul\n",
    "m3=np.dot(m1,m2)\n",
    "m3"
   ]
  },
  {
   "cell_type": "code",
   "execution_count": 11,
   "id": "97c10cd1",
   "metadata": {},
   "outputs": [
    {
     "data": {
      "text/plain": [
       "array([[1, 3],\n",
       "       [2, 4]])"
      ]
     },
     "execution_count": 11,
     "metadata": {},
     "output_type": "execute_result"
    }
   ],
   "source": [
    "#transpose\n",
    "m4=np.transpose(m1)\n",
    "m4"
   ]
  },
  {
   "cell_type": "code",
   "execution_count": 12,
   "id": "9144f3e2",
   "metadata": {},
   "outputs": [
    {
     "data": {
      "text/plain": [
       "array([[-4. ,  3. ],\n",
       "       [ 3.5, -2.5]])"
      ]
     },
     "execution_count": 12,
     "metadata": {},
     "output_type": "execute_result"
    }
   ],
   "source": [
    "#inverse\n",
    "m5=np.linalg.inv(m2)\n",
    "m5"
   ]
  },
  {
   "cell_type": "code",
   "execution_count": 14,
   "id": "d850a45a",
   "metadata": {},
   "outputs": [
    {
     "data": {
      "text/plain": [
       "-2.0000000000000004"
      ]
     },
     "execution_count": 14,
     "metadata": {},
     "output_type": "execute_result"
    }
   ],
   "source": [
    "#determinant\n",
    "m6=np.linalg.det(m1)\n",
    "m6"
   ]
  },
  {
   "cell_type": "code",
   "execution_count": 16,
   "id": "06fde341",
   "metadata": {},
   "outputs": [
    {
     "data": {
      "text/plain": [
       "array([1, 2, 3, 4])"
      ]
     },
     "execution_count": 16,
     "metadata": {},
     "output_type": "execute_result"
    }
   ],
   "source": [
    "#flatten\n",
    "x=m1.flatten()\n",
    "x"
   ]
  },
  {
   "cell_type": "code",
   "execution_count": 23,
   "id": "455cb39f",
   "metadata": {},
   "outputs": [
    {
     "name": "stdout",
     "output_type": "stream",
     "text": [
      "Enter the value :1\n",
      "Enter the value :2\n",
      "Enter the value :3\n",
      "Enter the value :4\n",
      "[[1, 2], [3, 4]]\n"
     ]
    }
   ],
   "source": [
    "#read matrix from the user\n",
    "matrix=[]\n",
    "for i in range(2):\n",
    "    row=[]\n",
    "    for j in range(2):\n",
    "        a=int(input('Enter the value :'))\n",
    "        row.append(a)\n",
    "    matrix.append(row)\n",
    "    \n",
    "print(matrix)"
   ]
  },
  {
   "cell_type": "code",
   "execution_count": 26,
   "id": "04bc9d95",
   "metadata": {},
   "outputs": [
    {
     "name": "stdout",
     "output_type": "stream",
     "text": [
      "Enter the rows: 2\n",
      "Enter the column: 2\n",
      "Enter the value :1\n",
      "Enter the value :2\n",
      "Enter the value :3\n",
      "Enter the value :4\n",
      "[[1, 2], [3, 4], [1, 2], [3, 4], [5, 6], [1, 2], [3, 4]]\n",
      "/n\n"
     ]
    }
   ],
   "source": [
    "#read rows and coloums\n",
    "matrix1=[]\n",
    "r=int(input('Enter the rows: '))\n",
    "c=int(input(\"Enter the column: \"))\n",
    "for i in range(r):\n",
    "    row=[]\n",
    "    for j in range(c):\n",
    "        a=int(input('Enter the value :'))\n",
    "        row.append(a)\n",
    "    matrix1.append(row)\n",
    "    \n",
    "print(matrix)\n"
   ]
  },
  {
   "cell_type": "code",
   "execution_count": 30,
   "id": "d4851875",
   "metadata": {},
   "outputs": [
    {
     "name": "stdout",
     "output_type": "stream",
     "text": [
      "Enter rows :2\n",
      "Enter coloumns :2\n",
      "1 2 3 4 \n"
     ]
    },
    {
     "data": {
      "text/plain": [
       "array([[1, 2],\n",
       "       [3, 4]])"
      ]
     },
     "execution_count": 30,
     "metadata": {},
     "output_type": "execute_result"
    }
   ],
   "source": [
    "#\n",
    "r1=int(input(\"Enter rows :\"))\n",
    "c1=int(input(\"Enter coloumns :\"))\n",
    "a=list(map(int,input().split()))\n",
    "mat=np.array(a).reshape(r1,c1)\n",
    "mat"
   ]
  },
  {
   "cell_type": "code",
   "execution_count": null,
   "id": "6d06b2db",
   "metadata": {},
   "outputs": [],
   "source": []
  }
 ],
 "metadata": {
  "kernelspec": {
   "display_name": "Python 3 (ipykernel)",
   "language": "python",
   "name": "python3"
  },
  "language_info": {
   "codemirror_mode": {
    "name": "ipython",
    "version": 3
   },
   "file_extension": ".py",
   "mimetype": "text/x-python",
   "name": "python",
   "nbconvert_exporter": "python",
   "pygments_lexer": "ipython3",
   "version": "3.11.5"
  }
 },
 "nbformat": 4,
 "nbformat_minor": 5
}
