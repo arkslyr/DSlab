{
 "cells": [
  {
   "cell_type": "code",
   "execution_count": 8,
   "id": "946fda3a",
   "metadata": {},
   "outputs": [
    {
     "name": "stdout",
     "output_type": "stream",
     "text": [
      "[12 32 12 32 45 12] [12 31 11 37 47 10]\n",
      "[False  True  True False False  True]\n",
      "[False False False  True  True False]\n",
      "[ True  True  True False False  True]\n",
      "[ True False False  True  True False]\n",
      "[ True False False False False False]\n"
     ]
    }
   ],
   "source": [
    "import numpy as np\n",
    "A=np.array([12,32,12,32,45,12])\n",
    "B=np.array([12,31,11,37,47,10])\n",
    "print(A,B)\n",
    "print(np.greater(A, B))\n",
    "print(np.less(A, B))\n",
    "print(np.greater_equal(A,B))\n",
    "print(np.less_equal(A,B))\n",
    "print(np.equal(A,B))\n",
    "\n"
   ]
  },
  {
   "cell_type": "code",
   "execution_count": null,
   "id": "140e88f9",
   "metadata": {},
   "outputs": [],
   "source": []
  }
 ],
 "metadata": {
  "kernelspec": {
   "display_name": "Python 3 (ipykernel)",
   "language": "python",
   "name": "python3"
  },
  "language_info": {
   "codemirror_mode": {
    "name": "ipython",
    "version": 3
   },
   "file_extension": ".py",
   "mimetype": "text/x-python",
   "name": "python",
   "nbconvert_exporter": "python",
   "pygments_lexer": "ipython3",
   "version": "3.11.5"
  }
 },
 "nbformat": 4,
 "nbformat_minor": 5
}
