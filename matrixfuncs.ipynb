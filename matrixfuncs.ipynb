{
 "cells": [
  {
   "cell_type": "code",
   "execution_count": 1,
   "id": "400a69a8",
   "metadata": {},
   "outputs": [
    {
     "name": "stdout",
     "output_type": "stream",
     "text": [
      "Enter rows :2\n",
      "Enter coloumns :2\n",
      "Enter the first array1 2 3 4 \n",
      "Enter the second array5 6 7 8\n"
     ]
    }
   ],
   "source": [
    "import numpy as np\n",
    "r1=int(input(\"Enter rows :\"))\n",
    "c1=int(input(\"Enter coloumns :\"))\n",
    "a=list(map(int,input('Enter the first array').split()))\n",
    "mat=np.array(a).reshape(r1,c1)\n",
    "b=list(map(int,input('Enter the second array').split()))\n",
    "mat2=np.array(b).reshape(r1,c1)"
   ]
  },
  {
   "cell_type": "code",
   "execution_count": 5,
   "id": "4e8942e7",
   "metadata": {},
   "outputs": [
    {
     "name": "stdout",
     "output_type": "stream",
     "text": [
      "[[1 2]\n",
      " [3 4]]\n",
      "[[5 6]\n",
      " [7 8]]\n",
      "dot product is : \n"
     ]
    },
    {
     "data": {
      "text/plain": [
       "array([[19, 22],\n",
       "       [43, 50]])"
      ]
     },
     "execution_count": 5,
     "metadata": {},
     "output_type": "execute_result"
    }
   ],
   "source": [
    "print(mat)\n",
    "print(mat2)\n",
    "print('dot product is : ')\n",
    "m3=np.dot(mat,mat2)\n",
    "m3"
   ]
  },
  {
   "cell_type": "code",
   "execution_count": 6,
   "id": "e7d0f025",
   "metadata": {},
   "outputs": [
    {
     "name": "stdout",
     "output_type": "stream",
     "text": [
      "Transpose is :\n",
      "[[1 3]\n",
      " [2 4]]\n",
      "[[5 7]\n",
      " [6 8]]\n"
     ]
    }
   ],
   "source": [
    "print('Transpose is :')\n",
    "m4=np.transpose(mat)\n",
    "m5=np.transpose(mat2)\n",
    "print(m4)\n",
    "print(m5)"
   ]
  },
  {
   "cell_type": "code",
   "execution_count": 7,
   "id": "3a5da573",
   "metadata": {},
   "outputs": [
    {
     "name": "stdout",
     "output_type": "stream",
     "text": [
      "Determenant :\n",
      "-2.0000000000000004\n",
      "-1.999999999999999\n"
     ]
    }
   ],
   "source": [
    "print('Determenant :')\n",
    "m6=np.linalg.det(mat)\n",
    "print(m6)\n",
    "m7=np.linalg.det(mat2)\n",
    "print(m7)"
   ]
  },
  {
   "cell_type": "code",
   "execution_count": 12,
   "id": "9394c3ae",
   "metadata": {},
   "outputs": [
    {
     "name": "stdout",
     "output_type": "stream",
     "text": [
      "inverse of the matrix is: \n",
      "[[-2.   1. ]\n",
      " [ 1.5 -0.5]]\n",
      "[[-4.   3. ]\n",
      " [ 3.5 -2.5]]\n"
     ]
    }
   ],
   "source": [
    "print(\"inverse of the matrix is: \")\n",
    "m8=np.linalg.inv(mat)\n",
    "print(m8)\n",
    "m9=np.linalg.inv(mat2)\n",
    "print(m9)"
   ]
  },
  {
   "cell_type": "code",
   "execution_count": 13,
   "id": "2d9ff359",
   "metadata": {},
   "outputs": [
    {
     "name": "stdout",
     "output_type": "stream",
     "text": [
      "Trace\n",
      "5\n",
      "13\n"
     ]
    }
   ],
   "source": [
    "print('Trace')\n",
    "print(mat.trace())\n",
    "print(mat2.trace())"
   ]
  },
  {
   "cell_type": "code",
   "execution_count": 15,
   "id": "bfc9fdea",
   "metadata": {},
   "outputs": [
    {
     "name": "stdout",
     "output_type": "stream",
     "text": [
      "rank\n",
      "2\n",
      "2\n"
     ]
    }
   ],
   "source": [
    "print('rank')\n",
    "r1=np.linalg.matrix_rank(mat)\n",
    "r2=np.linalg.matrix_rank(mat2)\n",
    "print(r1)\n",
    "print(r2)"
   ]
  },
  {
   "cell_type": "code",
   "execution_count": 16,
   "id": "04e803bf",
   "metadata": {},
   "outputs": [
    {
     "name": "stdout",
     "output_type": "stream",
     "text": [
      "[-0.37228132  5.37228132] [[-0.82456484 -0.41597356]\n",
      " [ 0.56576746 -0.90937671]]\n",
      "[-0.15206735 13.15206735] [[-0.75868086 -0.59276441]\n",
      " [ 0.65146248 -0.80537591]]\n"
     ]
    }
   ],
   "source": [
    "print(\"eigen Values and Eigen Vectors\")\n",
    "eigenvalues, eigenvectors = np.linalg.eig(mat)\n",
    "eigenvalues1, eigenvectors1 = np.linalg.eig(mat2)\n",
    "print(eigenvalues, eigenvectors)\n",
    "print(eigenvalues1, eigenvectors1)"
   ]
  }
 ],
 "metadata": {
  "kernelspec": {
   "display_name": "Python 3 (ipykernel)",
   "language": "python",
   "name": "python3"
  },
  "language_info": {
   "codemirror_mode": {
    "name": "ipython",
    "version": 3
   },
   "file_extension": ".py",
   "mimetype": "text/x-python",
   "name": "python",
   "nbconvert_exporter": "python",
   "pygments_lexer": "ipython3",
   "version": "3.11.5"
  }
 },
 "nbformat": 4,
 "nbformat_minor": 5
}
