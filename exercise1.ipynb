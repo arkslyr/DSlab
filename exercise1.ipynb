{
 "cells": [
  {
   "cell_type": "code",
   "execution_count": 2,
   "id": "caf1e504",
   "metadata": {},
   "outputs": [
    {
     "name": "stdout",
     "output_type": "stream",
     "text": [
      "[  0   1   2   3   4   5   6   7   8  -9 -10 -11 -12 -13 -14 -15  16  17\n",
      "  18  19  20]\n"
     ]
    }
   ],
   "source": [
    "#create a vector from 0 to 20 and change the sign of the nos from 9 to 15\n",
    "import numpy as np\n",
    "v=np.arange(21)\n",
    "v[9:16]=-v[9:16]\n",
    "print(v)"
   ]
  },
  {
   "cell_type": "code",
   "execution_count": 4,
   "id": "924378c5",
   "metadata": {},
   "outputs": [
    {
     "name": "stdout",
     "output_type": "stream",
     "text": [
      "45\n",
      "[12 15 18]\n",
      "[ 6 15 24]\n"
     ]
    }
   ],
   "source": [
    "#wpp a numpy program to compute all sum of elements,sum of each coloums row of given array\n",
    "arr=np.array([[1,2,3],[4,5,6],[7,8,9]])\n",
    "total_sum=np.sum(arr)\n",
    "print(total_sum)\n",
    "csum=np.sum(arr,axis=0)\n",
    "print(csum)\n",
    "rsum=np.sum(arr,axis=1)\n",
    "print(rsum)"
   ]
  },
  {
   "cell_type": "code",
   "execution_count": 8,
   "id": "bdddbe52",
   "metadata": {},
   "outputs": [
    {
     "name": "stdout",
     "output_type": "stream",
     "text": [
      "[[1 2 3]\n",
      " [4 5 6]\n",
      " [7 8 9]]\n"
     ]
    }
   ],
   "source": [
    "#write a numpy program to save a given array to a file and load it\n",
    "arrrr=np.array([[1,2,3],[4,5,6],[7,8,9]])\n",
    "np.savetxt('myarray.txt',arr,fmt='%d')\n",
    "la=np.loadtxt('myarray.txt',dtype=int)\n",
    "print(la)"
   ]
  },
  {
   "cell_type": "code",
   "execution_count": 9,
   "id": "70c35058",
   "metadata": {},
   "outputs": [
    {
     "name": "stdout",
     "output_type": "stream",
     "text": [
      "OG array:\n",
      "[[0.64169458 0.93394475 0.00241733 0.07116644]\n",
      " [0.29278657 0.0578644  0.44146889 0.15413939]\n",
      " [0.27161967 0.64711499 0.2738202  0.49553939]\n",
      " [0.93915121 0.34255483 0.04781682 0.70080654]]\n",
      "New array:\n",
      "[[0.93915121 0.34255483 0.04781682 0.70080654]\n",
      " [0.29278657 0.0578644  0.44146889 0.15413939]\n",
      " [0.27161967 0.64711499 0.2738202  0.49553939]\n",
      " [0.64169458 0.93394475 0.00241733 0.07116644]]\n"
     ]
    }
   ],
   "source": [
    "#create a 4X4 matrix and fill it with random value create a new array from the set array by swapiing first and last row\n",
    "arr3=np.random.rand(4,4)\n",
    "print('OG array:')\n",
    "print(arr3)\n",
    "narr3=arr3.copy()\n",
    "narr3[[0,-1]]=narr3[[-1,0]]\n",
    "print('New array:')\n",
    "print(narr3)"
   ]
  },
  {
   "cell_type": "code",
   "execution_count": 10,
   "id": "f4d6323b",
   "metadata": {},
   "outputs": [
    {
     "name": "stdout",
     "output_type": "stream",
     "text": [
      "[[1 2 3]\n",
      " [4 5 6]]\n",
      "[[ 7  8  9]\n",
      " [10 11 12]]\n",
      "[[ 7 16 27]\n",
      " [40 55 72]]\n"
     ]
    }
   ],
   "source": [
    "#array multiplication of same size by elements to elements\n",
    "a7=np.array([[1,2,3],[4,5,6]])\n",
    "print(a7)\n",
    "a8=np.array([[7,8,9],[10,11,12]])\n",
    "print(a8)\n",
    "mularr=a7*a8\n",
    "print(mularr)"
   ]
  },
  {
   "cell_type": "code",
   "execution_count": null,
   "id": "d9c5923c",
   "metadata": {},
   "outputs": [],
   "source": []
  }
 ],
 "metadata": {
  "kernelspec": {
   "display_name": "Python 3 (ipykernel)",
   "language": "python",
   "name": "python3"
  },
  "language_info": {
   "codemirror_mode": {
    "name": "ipython",
    "version": 3
   },
   "file_extension": ".py",
   "mimetype": "text/x-python",
   "name": "python",
   "nbconvert_exporter": "python",
   "pygments_lexer": "ipython3",
   "version": "3.11.5"
  }
 },
 "nbformat": 4,
 "nbformat_minor": 5
}
